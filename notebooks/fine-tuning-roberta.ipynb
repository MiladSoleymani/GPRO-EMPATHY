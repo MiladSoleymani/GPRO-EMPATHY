{
 "cells": [
  {
   "cell_type": "markdown",
   "metadata": {},
   "source": [
    "# Data Preprocessing"
   ]
  },
  {
   "cell_type": "code",
   "execution_count": 1,
   "metadata": {
    "execution": {
     "iopub.execute_input": "2025-08-27T17:02:50.669777Z",
     "iopub.status.busy": "2025-08-27T17:02:50.669541Z",
     "iopub.status.idle": "2025-08-27T17:04:26.080318Z",
     "shell.execute_reply": "2025-08-27T17:04:26.079589Z",
     "shell.execute_reply.started": "2025-08-27T17:02:50.669758Z"
    },
    "trusted": true
   },
   "outputs": [
    {
     "name": "stdout",
     "output_type": "stream",
     "text": [
      "\u001b[2K   \u001b[90m━━━━━━━━━━━━━━━━━━━━━━━━━━━━━━━━━━━━━━━━\u001b[0m \u001b[32m494.8/494.8 kB\u001b[0m \u001b[31m12.9 MB/s\u001b[0m eta \u001b[36m0:00:00\u001b[0m00:01\u001b[0m\n",
      "\u001b[2K   \u001b[90m━━━━━━━━━━━━━━━━━━━━━━━━━━━━━━━━━━━━━━━━\u001b[0m \u001b[32m561.5/561.5 kB\u001b[0m \u001b[31m23.6 MB/s\u001b[0m eta \u001b[36m0:00:00\u001b[0m\n",
      "\u001b[2K   \u001b[90m━━━━━━━━━━━━━━━━━━━━━━━━━━━━━━━━━━━━━━━━\u001b[0m \u001b[32m193.6/193.6 kB\u001b[0m \u001b[31m12.8 MB/s\u001b[0m eta \u001b[36m0:00:00\u001b[0m\n",
      "\u001b[?25h\u001b[31mERROR: pip's dependency resolver does not currently take into account all the packages that are installed. This behaviour is the source of the following dependency conflicts.\n",
      "bigframes 2.8.0 requires google-cloud-bigquery-storage<3.0.0,>=2.30.0, which is not installed.\n",
      "cesium 0.12.4 requires numpy<3.0,>=2.0, but you have numpy 1.26.4 which is incompatible.\n",
      "torch 2.6.0+cu124 requires nvidia-cublas-cu12==12.4.5.8; platform_system == \"Linux\" and platform_machine == \"x86_64\", but you have nvidia-cublas-cu12 12.5.3.2 which is incompatible.\n",
      "torch 2.6.0+cu124 requires nvidia-cuda-cupti-cu12==12.4.127; platform_system == \"Linux\" and platform_machine == \"x86_64\", but you have nvidia-cuda-cupti-cu12 12.5.82 which is incompatible.\n",
      "torch 2.6.0+cu124 requires nvidia-cuda-nvrtc-cu12==12.4.127; platform_system == \"Linux\" and platform_machine == \"x86_64\", but you have nvidia-cuda-nvrtc-cu12 12.5.82 which is incompatible.\n",
      "torch 2.6.0+cu124 requires nvidia-cuda-runtime-cu12==12.4.127; platform_system == \"Linux\" and platform_machine == \"x86_64\", but you have nvidia-cuda-runtime-cu12 12.5.82 which is incompatible.\n",
      "torch 2.6.0+cu124 requires nvidia-cudnn-cu12==9.1.0.70; platform_system == \"Linux\" and platform_machine == \"x86_64\", but you have nvidia-cudnn-cu12 9.3.0.75 which is incompatible.\n",
      "torch 2.6.0+cu124 requires nvidia-cufft-cu12==11.2.1.3; platform_system == \"Linux\" and platform_machine == \"x86_64\", but you have nvidia-cufft-cu12 11.2.3.61 which is incompatible.\n",
      "torch 2.6.0+cu124 requires nvidia-curand-cu12==10.3.5.147; platform_system == \"Linux\" and platform_machine == \"x86_64\", but you have nvidia-curand-cu12 10.3.6.82 which is incompatible.\n",
      "torch 2.6.0+cu124 requires nvidia-cusolver-cu12==11.6.1.9; platform_system == \"Linux\" and platform_machine == \"x86_64\", but you have nvidia-cusolver-cu12 11.6.3.83 which is incompatible.\n",
      "torch 2.6.0+cu124 requires nvidia-cusparse-cu12==12.3.1.170; platform_system == \"Linux\" and platform_machine == \"x86_64\", but you have nvidia-cusparse-cu12 12.5.1.3 which is incompatible.\n",
      "torch 2.6.0+cu124 requires nvidia-nvjitlink-cu12==12.4.127; platform_system == \"Linux\" and platform_machine == \"x86_64\", but you have nvidia-nvjitlink-cu12 12.5.82 which is incompatible.\n",
      "gcsfs 2025.3.2 requires fsspec==2025.3.2, but you have fsspec 2025.3.0 which is incompatible.\n",
      "bigframes 2.8.0 requires google-cloud-bigquery[bqstorage,pandas]>=3.31.0, but you have google-cloud-bigquery 3.25.0 which is incompatible.\n",
      "bigframes 2.8.0 requires rich<14,>=12.4.4, but you have rich 14.0.0 which is incompatible.\u001b[0m\u001b[31m\n",
      "\u001b[2K     \u001b[90m━━━━━━━━━━━━━━━━━━━━━━━━━━━━━━━━━━━━━━━━\u001b[0m \u001b[32m43.7/43.7 kB\u001b[0m \u001b[31m2.1 MB/s\u001b[0m eta \u001b[36m0:00:00\u001b[0m\n",
      "\u001b[2K   \u001b[90m━━━━━━━━━━━━━━━━━━━━━━━━━━━━━━━━━━━━━━━━\u001b[0m \u001b[32m9.5/9.5 MB\u001b[0m \u001b[31m82.9 MB/s\u001b[0m eta \u001b[36m0:00:00\u001b[0m:00:01\u001b[0m00:01\u001b[0m\n",
      "\u001b[2K   \u001b[90m━━━━━━━━━━━━━━━━━━━━━━━━━━━━━━━━━━━━━━━━\u001b[0m \u001b[32m322.5/322.5 kB\u001b[0m \u001b[31m20.7 MB/s\u001b[0m eta \u001b[36m0:00:00\u001b[0m\n",
      "\u001b[2K   \u001b[90m━━━━━━━━━━━━━━━━━━━━━━━━━━━━━━━━━━━━━━━━\u001b[0m \u001b[32m3.6/3.6 MB\u001b[0m \u001b[31m88.8 MB/s\u001b[0m eta \u001b[36m0:00:00\u001b[0m:00:01\u001b[0m\n",
      "\u001b[2K   \u001b[90m━━━━━━━━━━━━━━━━━━━━━━━━━━━━━━━━━━━━━━━━\u001b[0m \u001b[32m363.4/363.4 MB\u001b[0m \u001b[31m4.6 MB/s\u001b[0m eta \u001b[36m0:00:00\u001b[0m:00:01\u001b[0m00:01\u001b[0m\n",
      "\u001b[2K   \u001b[90m━━━━━━━━━━━━━━━━━━━━━━━━━━━━━━━━━━━━━━━━\u001b[0m \u001b[32m13.8/13.8 MB\u001b[0m \u001b[31m71.2 MB/s\u001b[0m eta \u001b[36m0:00:00\u001b[0m:00:01\u001b[0m00:01\u001b[0m\n",
      "\u001b[2K   \u001b[90m━━━━━━━━━━━━━━━━━━━━━━━━━━━━━━━━━━━━━━━━\u001b[0m \u001b[32m24.6/24.6 MB\u001b[0m \u001b[31m60.8 MB/s\u001b[0m eta \u001b[36m0:00:00\u001b[0m:00:01\u001b[0m00:01\u001b[0m\n",
      "\u001b[2K   \u001b[90m━━━━━━━━━━━━━━━━━━━━━━━━━━━━━━━━━━━━━━━━\u001b[0m \u001b[32m883.7/883.7 kB\u001b[0m \u001b[31m37.9 MB/s\u001b[0m eta \u001b[36m0:00:00\u001b[0m\n",
      "\u001b[2K   \u001b[90m━━━━━━━━━━━━━━━━━━━━━━━━━━━━━━━━━━━━━━━━\u001b[0m \u001b[32m664.8/664.8 MB\u001b[0m \u001b[31m2.3 MB/s\u001b[0m eta \u001b[36m0:00:00\u001b[0m:00:01\u001b[0m00:01\u001b[0m\n",
      "\u001b[2K   \u001b[90m━━━━━━━━━━━━━━━━━━━━━━━━━━━━━━━━━━━━━━━━\u001b[0m \u001b[32m211.5/211.5 MB\u001b[0m \u001b[31m2.0 MB/s\u001b[0m eta \u001b[36m0:00:00\u001b[0m:00:01\u001b[0m00:01\u001b[0m\n",
      "\u001b[2K   \u001b[90m━━━━━━━━━━━━━━━━━━━━━━━━━━━━━━━━━━━━━━━━\u001b[0m \u001b[32m56.3/56.3 MB\u001b[0m \u001b[31m25.1 MB/s\u001b[0m eta \u001b[36m0:00:00\u001b[0m00:01\u001b[0m00:01\u001b[0mm\n",
      "\u001b[2K   \u001b[90m━━━━━━━━━━━━━━━━━━━━━━━━━━━━━━━━━━━━━━━━\u001b[0m \u001b[32m127.9/127.9 MB\u001b[0m \u001b[31m12.6 MB/s\u001b[0m eta \u001b[36m0:00:00\u001b[0m00:01\u001b[0m00:01\u001b[0m\n",
      "\u001b[2K   \u001b[90m━━━━━━━━━━━━━━━━━━━━━━━━━━━━━━━━━━━━━━━━\u001b[0m \u001b[32m207.5/207.5 MB\u001b[0m \u001b[31m8.1 MB/s\u001b[0m eta \u001b[36m0:00:00\u001b[0m:00:01\u001b[0m00:01\u001b[0m\n",
      "\u001b[2K   \u001b[90m━━━━━━━━━━━━━━━━━━━━━━━━━━━━━━━━━━━━━━━━\u001b[0m \u001b[32m21.1/21.1 MB\u001b[0m \u001b[31m69.3 MB/s\u001b[0m eta \u001b[36m0:00:00\u001b[0m:00:01\u001b[0m00:01\u001b[0m\n",
      "\u001b[?25h"
     ]
    }
   ],
   "source": [
    "!pip -q install -U datasets huggingface_hub\n",
    "!pip -q install -U \"transformers==4.44.2\" \"peft==0.13.0\""
   ]
  },
  {
   "cell_type": "code",
   "execution_count": null,
   "metadata": {
    "execution": {
     "iopub.execute_input": "2025-08-27T17:04:26.081812Z",
     "iopub.status.busy": "2025-08-27T17:04:26.081588Z",
     "iopub.status.idle": "2025-08-27T17:04:31.200343Z",
     "shell.execute_reply": "2025-08-27T17:04:31.199756Z",
     "shell.execute_reply.started": "2025-08-27T17:04:26.081790Z"
    },
    "trusted": true
   },
   "outputs": [
    {
     "name": "stdout",
     "output_type": "stream",
     "text": [
      "🔑 Enter your HF write token:  ········\n"
     ]
    }
   ],
   "source": [
    "from huggingface_hub import login\n",
    "from getpass import getpass\n",
    "\n",
    "login(token=getpass(\"🔑 Enter your HF write token: \"))"
   ]
  },
  {
   "cell_type": "code",
   "execution_count": 3,
   "metadata": {
    "execution": {
     "iopub.execute_input": "2025-08-27T17:04:34.220267Z",
     "iopub.status.busy": "2025-08-27T17:04:34.219737Z",
     "iopub.status.idle": "2025-08-27T17:04:38.248715Z",
     "shell.execute_reply": "2025-08-27T17:04:38.247964Z",
     "shell.execute_reply.started": "2025-08-27T17:04:34.220242Z"
    },
    "trusted": true
   },
   "outputs": [],
   "source": [
    "import numpy as np\n",
    "from datasets import load_dataset, DatasetDict\n",
    "from transformers import AutoTokenizer"
   ]
  },
  {
   "cell_type": "code",
   "execution_count": 5,
   "metadata": {
    "execution": {
     "iopub.execute_input": "2025-08-27T17:08:41.210954Z",
     "iopub.status.busy": "2025-08-27T17:08:41.210128Z",
     "iopub.status.idle": "2025-08-27T17:08:44.917228Z",
     "shell.execute_reply": "2025-08-27T17:08:44.916481Z",
     "shell.execute_reply.started": "2025-08-27T17:08:41.210919Z"
    },
    "trusted": true
   },
   "outputs": [
    {
     "data": {
      "application/vnd.jupyter.widget-view+json": {
       "model_id": "2441c6852db1446f947a8214051f9278",
       "version_major": 2,
       "version_minor": 0
      },
      "text/plain": [
       "Map:   0%|          | 0/10940 [00:00<?, ? examples/s]"
      ]
     },
     "metadata": {},
     "output_type": "display_data"
    },
    {
     "data": {
      "application/vnd.jupyter.widget-view+json": {
       "model_id": "3ff54e93bdd944d0b911f77be5c859d8",
       "version_major": 2,
       "version_minor": 0
      },
      "text/plain": [
       "Map:   0%|          | 0/1216 [00:00<?, ? examples/s]"
      ]
     },
     "metadata": {},
     "output_type": "display_data"
    },
    {
     "name": "stdout",
     "output_type": "stream",
     "text": [
      "DatasetDict({\n",
      "    train: Dataset({\n",
      "        features: ['input_ids', 'attention_mask', 'labels'],\n",
      "        num_rows: 10940\n",
      "    })\n",
      "    validation: Dataset({\n",
      "        features: ['input_ids', 'attention_mask', 'labels'],\n",
      "        num_rows: 1216\n",
      "    })\n",
      "})\n",
      "{'input_ids': torch.Size([256]), 'attention_mask': torch.Size([256]), 'labels': torch.Size([3])}\n"
     ]
    }
   ],
   "source": [
    "import re\n",
    "import unicodedata\n",
    "import numpy as np\n",
    "from datasets import load_dataset, DatasetDict\n",
    "from transformers import AutoTokenizer\n",
    "\n",
    "\n",
    "_URL_RE   = re.compile(r\"\"\"(?i)\\b((?:https?://|www\\.)\\S+)\\b\"\"\")\n",
    "_EMAIL_RE = re.compile(r\"\"\"(?i)\\b[a-z0-9._%+-]+@[a-z0-9.-]+\\.[a-z]{2,}\\b\"\"\")\n",
    "_USER_RE  = re.compile(r\"\"\"(?i)(?<!\\w)@[\\w_]+\"\"\")\n",
    "_HASH_RE  = re.compile(r\"\"\"(?<!\\w)#(\\w+)\\b\"\"\")  # keep the token text, drop '#'\n",
    "_WS_RE    = re.compile(r\"\\s+\")\n",
    "\n",
    "def normalize_text_roberta(\n",
    "    text: str,\n",
    "    *,\n",
    "    replace_urls: bool = True,\n",
    "    replace_emails: bool = True,\n",
    "    normalize_user_mentions: bool = True,\n",
    "    detag_hashtags: bool = True,\n",
    "    collapse_whitespace: bool = True,\n",
    "    remove_control_chars: bool = True\n",
    ") -> str:\n",
    "    if not isinstance(text, str):\n",
    "        text = \"\" if text is None else str(text)\n",
    "\n",
    "    # Unicode normalize\n",
    "    t = unicodedata.normalize(\"NFKC\", text)\n",
    "\n",
    "    # Line breaks -> space\n",
    "    t = t.replace(\"\\r\", \" \").replace(\"\\n\", \" \")\n",
    "\n",
    "    # Replace patterns\n",
    "    if replace_urls:\n",
    "        t = _URL_RE.sub(\"<url>\", t)\n",
    "    if replace_emails:\n",
    "        t = _EMAIL_RE.sub(\"<email>\", t)\n",
    "    if normalize_user_mentions:\n",
    "        t = _USER_RE.sub(\"@USER\", t)\n",
    "    if detag_hashtags:\n",
    "        t = _HASH_RE.sub(r\"\\1\", t)   # keep hashtag word, drop '#'\n",
    "\n",
    "    if remove_control_chars:\n",
    "        t = \"\".join(ch for ch in t if ch.isprintable() or ch in (\" \", \"\\t\"))\n",
    "\n",
    "    # Collapse whitespace and trim\n",
    "    if collapse_whitespace:\n",
    "        t = _WS_RE.sub(\" \", t).strip()\n",
    "\n",
    "    return t\n",
    "\n",
    "\n",
    "def make_preprocess_fn(\n",
    "    tokenizer, max_len=256, label_cols=(\"Emotion\", \"EmotionalPolarity\", \"Empathy\"),\n",
    "    text_cleaner=normalize_text_roberta\n",
    "):\n",
    "    def _preprocess(batch):\n",
    "        # Apply cleaner to each text in the batch\n",
    "        cleaned_texts = [text_cleaner(t) for t in batch[\"text\"]]\n",
    "\n",
    "        enc = tokenizer(\n",
    "            cleaned_texts,\n",
    "            truncation=True,\n",
    "            padding=\"max_length\",\n",
    "            max_length=max_len\n",
    "        )\n",
    "        labels = np.stack([batch[c] for c in label_cols], axis=1).astype(\"float32\")\n",
    "        enc[\"labels\"] = labels\n",
    "        return enc\n",
    "    return _preprocess\n",
    "\n",
    "\n",
    "def load_and_tokenize_dataset(\n",
    "    dataset_id: str,\n",
    "    model_name: str = \"roberta-base\",\n",
    "    max_len: int = 256,\n",
    "    val_ratio: float = 0.1,\n",
    "    seed: int = 42,\n",
    "    label_cols=(\"Emotion\", \"EmotionalPolarity\", \"Empathy\"),\n",
    "    drop_original_cols: bool = True,\n",
    "    return_tokenizer: bool = False,\n",
    "    text_cleaner=normalize_text_roberta\n",
    "):\n",
    "    ds = load_dataset(dataset_id)\n",
    "\n",
    "    if \"validation\" not in ds:\n",
    "        split = ds[\"train\"].train_test_split(test_size=val_ratio, seed=seed, shuffle=True)\n",
    "        ds = DatasetDict({\"train\": split[\"train\"], \"validation\": split[\"test\"]})\n",
    "\n",
    "    tokenizer = AutoTokenizer.from_pretrained(model_name, use_fast=True)\n",
    "    preprocess = make_preprocess_fn(\n",
    "        tokenizer, max_len=max_len, label_cols=label_cols, text_cleaner=text_cleaner\n",
    "    )\n",
    "\n",
    "    remove_cols = ds[\"train\"].column_names if drop_original_cols else None\n",
    "    ds_tok = ds.map(preprocess, batched=True, remove_columns=remove_cols).with_format(\"torch\")\n",
    "\n",
    "    return (ds, ds_tok, tokenizer) if return_tokenizer else (ds, ds_tok)\n",
    "\n",
    "\n",
    "ds, ds_tok, tok = load_and_tokenize_dataset(\n",
    "    dataset_id=\"miladsolo/wassa-conv-turn-empathy\",\n",
    "    model_name=\"roberta-base\",\n",
    "    max_len=256,\n",
    "    val_ratio=0.1,\n",
    "    seed=42,\n",
    "    return_tokenizer=True,\n",
    ")\n",
    "\n",
    "print(ds_tok)\n",
    "print({k: v.shape for k, v in ds_tok[\"train\"][0].items()})\n"
   ]
  },
  {
   "cell_type": "code",
   "execution_count": 7,
   "metadata": {
    "execution": {
     "iopub.execute_input": "2025-08-27T17:10:08.805901Z",
     "iopub.status.busy": "2025-08-27T17:10:08.804901Z",
     "iopub.status.idle": "2025-08-27T17:10:08.817969Z",
     "shell.execute_reply": "2025-08-27T17:10:08.817205Z",
     "shell.execute_reply.started": "2025-08-27T17:10:08.805875Z"
    },
    "trusted": true
   },
   "outputs": [
    {
     "name": "stdout",
     "output_type": "stream",
     "text": [
      "\n",
      "=== Example 0 ===\n",
      "Raw text:\n",
      " He didn't have any was his main problem and he couldn't get on medicaid\n",
      "Labels [Emotion, Polarity, Empathy]: [2.6666998863220215, 2.0, 2.3333001136779785]\n",
      "\n",
      "Tokenized length (non-pad): 19 | Truncated_to_256? False\n",
      "\n",
      "First tokens:\n",
      "['<s>', 'He', 'Ġdidn', \"'t\", 'Ġhave', 'Ġany', 'Ġwas', 'Ġhis', 'Ġmain', 'Ġproblem', 'Ġand', 'Ġhe', 'Ġcouldn', \"'t\", 'Ġget', 'Ġon', 'Ġmedic', 'aid', '</s>', '<pad>', '<pad>', '<pad>', '<pad>', '<pad>', '<pad>', '<pad>', '<pad>', '<pad>', '<pad>', '<pad>', '<pad>', '<pad>', '<pad>', '<pad>', '<pad>', '<pad>', '<pad>', '<pad>', '<pad>', '<pad>']\n",
      "\n",
      "First input_ids:\n",
      "[0, 894, 399, 75, 33, 143, 21, 39, 1049, 936, 8, 37, 1705, 75, 120, 15, 26467, 5526, 2, 1, 1, 1, 1, 1, 1, 1, 1, 1, 1, 1, 1, 1, 1, 1, 1, 1, 1, 1, 1, 1]\n",
      "\n",
      "First attention_mask:\n",
      "[1, 1, 1, 1, 1, 1, 1, 1, 1, 1, 1, 1, 1, 1, 1, 1, 1, 1, 1, 0, 0, 0, 0, 0, 0, 0, 0, 0, 0, 0, 0, 0, 0, 0, 0, 0, 0, 0, 0, 0]\n",
      "\n",
      "Decoded (no special tokens):\n",
      "He didn't have any was his main problem and he couldn't get on medicaid\n",
      "\n",
      "=== Example 1 ===\n",
      "Raw text:\n",
      " Yep, exactly.  There is no good solution.  I do feel sad for people like the children involved and families though.  But what can I do.\n",
      "Labels [Emotion, Polarity, Empathy]: [2.3333001136779785, 2.0, 3.0]\n",
      "\n",
      "Tokenized length (non-pad): 32 | Truncated_to_256? False\n",
      "\n",
      "First tokens:\n",
      "['<s>', 'Yep', ',', 'Ġexactly', '.', 'ĠThere', 'Ġis', 'Ġno', 'Ġgood', 'Ġsolution', '.', 'ĠI', 'Ġdo', 'Ġfeel', 'Ġsad', 'Ġfor', 'Ġpeople', 'Ġlike', 'Ġthe', 'Ġchildren', 'Ġinvolved', 'Ġand', 'Ġfamilies', 'Ġthough', '.', 'ĠBut', 'Ġwhat', 'Ġcan', 'ĠI', 'Ġdo', '.', '</s>', '<pad>', '<pad>', '<pad>', '<pad>', '<pad>', '<pad>', '<pad>', '<pad>']\n",
      "\n",
      "First input_ids:\n",
      "[0, 46236, 6, 2230, 4, 345, 16, 117, 205, 2472, 4, 38, 109, 619, 5074, 13, 82, 101, 5, 408, 963, 8, 1232, 600, 4, 125, 99, 64, 38, 109, 4, 2, 1, 1, 1, 1, 1, 1, 1, 1]\n",
      "\n",
      "First attention_mask:\n",
      "[1, 1, 1, 1, 1, 1, 1, 1, 1, 1, 1, 1, 1, 1, 1, 1, 1, 1, 1, 1, 1, 1, 1, 1, 1, 1, 1, 1, 1, 1, 1, 1, 0, 0, 0, 0, 0, 0, 0, 0]\n",
      "\n",
      "Decoded (no special tokens):\n",
      "Yep, exactly. There is no good solution. I do feel sad for people like the children involved and families though. But what can I do.\n"
     ]
    }
   ],
   "source": [
    "import numpy as np\n",
    "import torch\n",
    "\n",
    "\n",
    "def _to_list(x):\n",
    "    if isinstance(x, torch.Tensor):\n",
    "        return x.detach().cpu().tolist()\n",
    "    if isinstance(x, np.ndarray):\n",
    "        return x.tolist()\n",
    "    return x if isinstance(x, list) else list(x)\n",
    "\n",
    "\n",
    "def show_example(i, ds_raw, ds_tok, tokenizer, max_len=256, preview=40):\n",
    "    raw = ds_raw[\"train\"][i]\n",
    "    tokd = ds_tok[\"train\"][i]\n",
    "\n",
    "    text = raw[\"text\"]\n",
    "    labels = [\n",
    "        float(raw[\"Emotion\"]),\n",
    "        float(raw[\"EmotionalPolarity\"]),\n",
    "        float(raw[\"Empathy\"]),\n",
    "    ]\n",
    "\n",
    "    input_ids = _to_list(tokd[\"input_ids\"])\n",
    "    attn_mask = _to_list(tokd[\"attention_mask\"])\n",
    "    tokens = tokenizer.convert_ids_to_tokens(input_ids)\n",
    "\n",
    "    seq_len = int(sum(attn_mask))\n",
    "    truncated = seq_len == max_len\n",
    "\n",
    "    print(f\"\\n=== Example {i} ===\")\n",
    "    print(\"Raw text:\\n\", text)\n",
    "    print(\"Labels [Emotion, Polarity, Empathy]:\", labels)\n",
    "    print(\n",
    "        f\"\\nTokenized length (non-pad): {seq_len} | Truncated_to_{max_len}? {truncated}\"\n",
    "    )\n",
    "\n",
    "    print(\"\\nFirst tokens:\")\n",
    "    print(tokens[:preview])\n",
    "    print(\"\\nFirst input_ids:\")\n",
    "    print(input_ids[:preview])\n",
    "    print(\"\\nFirst attention_mask:\")\n",
    "    print(attn_mask[:preview])\n",
    "\n",
    "    # Decode only non-pad positions; skip special tokens for readability\n",
    "    decoded = tokenizer.decode(\n",
    "        [tid for tid, m in zip(input_ids, attn_mask) if m == 1],\n",
    "        skip_special_tokens=True,\n",
    "    )\n",
    "    print(\"\\nDecoded (no special tokens):\")\n",
    "    print(decoded[:400])\n",
    "\n",
    "\n",
    "for idx in [0, 1]:\n",
    "    show_example(idx, ds, ds_tok, tok, max_len=256, preview=40)\n"
   ]
  },
  {
   "cell_type": "markdown",
   "metadata": {},
   "source": [
    "# Model"
   ]
  },
  {
   "cell_type": "code",
   "execution_count": 8,
   "metadata": {
    "execution": {
     "iopub.execute_input": "2025-08-27T17:12:32.250954Z",
     "iopub.status.busy": "2025-08-27T17:12:32.250340Z",
     "iopub.status.idle": "2025-08-27T17:12:33.274828Z",
     "shell.execute_reply": "2025-08-27T17:12:33.274225Z",
     "shell.execute_reply.started": "2025-08-27T17:12:32.250924Z"
    },
    "trusted": true
   },
   "outputs": [],
   "source": [
    "import torch\n",
    "\n",
    "from transformers import AutoConfig, AutoModelForSequenceClassification, AutoTokenizer\n",
    "from peft import LoraConfig, TaskType, get_peft_model"
   ]
  },
  {
   "cell_type": "code",
   "execution_count": 13,
   "metadata": {
    "execution": {
     "iopub.execute_input": "2025-08-27T17:17:34.590491Z",
     "iopub.status.busy": "2025-08-27T17:17:34.590150Z",
     "iopub.status.idle": "2025-08-27T17:17:35.203153Z",
     "shell.execute_reply": "2025-08-27T17:17:35.202480Z",
     "shell.execute_reply.started": "2025-08-27T17:17:34.590464Z"
    },
    "trusted": true
   },
   "outputs": [
    {
     "name": "stderr",
     "output_type": "stream",
     "text": [
      "Some weights of RobertaForSequenceClassification were not initialized from the model checkpoint at roberta-base and are newly initialized: ['classifier.dense.bias', 'classifier.dense.weight', 'classifier.out_proj.bias', 'classifier.out_proj.weight']\n",
      "You should probably TRAIN this model on a down-stream task to be able to use it for predictions and inference.\n"
     ]
    },
    {
     "name": "stdout",
     "output_type": "stream",
     "text": [
      "trainable params: 5,901,315 || all params: 130,549,254 || trainable%: 4.5204\n",
      "torch.Size([1, 3])\n",
      "tensor([[ 0.1554,  0.0004, -0.0371]])\n"
     ]
    }
   ],
   "source": [
    "def build_lora_roberta_regressor(\n",
    "    model_name: str = \"roberta-base\",\n",
    "    num_labels: int = 3,\n",
    "    r: int = 32,\n",
    "    lora_alpha: int = 32,\n",
    "    lora_dropout: float = 0.05,\n",
    "    target_modules = (\"query\", \"key\", \"value\", \"output.dense\", \"intermediate.dense\"),\n",
    "    bias: str = \"none\",\n",
    "):\n",
    "\n",
    "    cfg = AutoConfig.from_pretrained(\n",
    "        model_name,\n",
    "        num_labels=num_labels,\n",
    "        problem_type=\"regression\",\n",
    "        id2label={0: \"Emotion\", 1: \"EmotionalPolarity\", 2: \"Empathy\"},\n",
    "        label2id={\"Emotion\": 0, \"EmotionalPolarity\": 1, \"Empathy\": 2},\n",
    "    )\n",
    "    base = AutoModelForSequenceClassification.from_pretrained(model_name, config=cfg)\n",
    "\n",
    "    lora_cfg = LoraConfig(\n",
    "        task_type=TaskType.SEQ_CLS,\n",
    "        r=r,\n",
    "        lora_alpha=lora_alpha,\n",
    "        lora_dropout=lora_dropout,\n",
    "        target_modules=list(target_modules),\n",
    "        bias=bias,\n",
    "    )\n",
    "    model = get_peft_model(base, lora_cfg)\n",
    "    return model\n",
    "\n",
    "model = build_lora_roberta_regressor(model_name=\"roberta-base\")\n",
    "model.print_trainable_parameters()\n",
    "\n",
    "tok = AutoTokenizer.from_pretrained(\"roberta-base\")\n",
    "ex = tok(\"this is a test\", return_tensors=\"pt\")\n",
    "with torch.no_grad():\n",
    "    out = model(**ex)\n",
    "print(out.logits.shape)  # should be [1, 3]\n",
    "print(out.logits)"
   ]
  },
  {
   "cell_type": "markdown",
   "metadata": {},
   "source": [
    "# Trainer"
   ]
  },
  {
   "cell_type": "code",
   "execution_count": 21,
   "metadata": {
    "execution": {
     "iopub.execute_input": "2025-08-27T17:48:35.415376Z",
     "iopub.status.busy": "2025-08-27T17:48:35.415104Z",
     "iopub.status.idle": "2025-08-27T17:48:35.419829Z",
     "shell.execute_reply": "2025-08-27T17:48:35.419171Z",
     "shell.execute_reply.started": "2025-08-27T17:48:35.415357Z"
    },
    "trusted": true
   },
   "outputs": [],
   "source": [
    "import numpy as np\n",
    "import torch\n",
    "import torch.nn.functional as F\n",
    "from torch.optim import AdamW\n",
    "from torch.optim.lr_scheduler import ReduceLROnPlateau\n",
    "from transformers import Trainer, TrainingArguments, DataCollatorWithPadding, TrainerCallback"
   ]
  },
  {
   "cell_type": "code",
   "execution_count": 22,
   "metadata": {
    "execution": {
     "iopub.execute_input": "2025-08-27T17:48:40.001225Z",
     "iopub.status.busy": "2025-08-27T17:48:40.000461Z",
     "iopub.status.idle": "2025-08-27T18:12:14.990955Z",
     "shell.execute_reply": "2025-08-27T18:12:14.990362Z",
     "shell.execute_reply.started": "2025-08-27T17:48:40.001201Z"
    },
    "trusted": true
   },
   "outputs": [
    {
     "name": "stderr",
     "output_type": "stream",
     "text": [
      "/usr/local/lib/python3.11/dist-packages/transformers/training_args.py:1525: FutureWarning: `evaluation_strategy` is deprecated and will be removed in version 4.46 of 🤗 Transformers. Use `eval_strategy` instead\n",
      "  warnings.warn(\n"
     ]
    },
    {
     "data": {
      "text/html": [
       "\n",
       "    <div>\n",
       "      \n",
       "      <progress value='855' max='855' style='width:300px; height:20px; vertical-align: middle;'></progress>\n",
       "      [855/855 23:32, Epoch 5/5]\n",
       "    </div>\n",
       "    <table border=\"1\" class=\"dataframe\">\n",
       "  <thead>\n",
       " <tr style=\"text-align: left;\">\n",
       "      <th>Step</th>\n",
       "      <th>Training Loss</th>\n",
       "      <th>Validation Loss</th>\n",
       "      <th>Mae Emotion</th>\n",
       "      <th>Mae Polarity</th>\n",
       "      <th>Mae Empathy</th>\n",
       "      <th>Mae Mean</th>\n",
       "      <th>R Emotion</th>\n",
       "      <th>R Polarity</th>\n",
       "      <th>R Empathy</th>\n",
       "      <th>R Mean</th>\n",
       "    </tr>\n",
       "  </thead>\n",
       "  <tbody>\n",
       "    <tr>\n",
       "      <td>50</td>\n",
       "      <td>0.129200</td>\n",
       "      <td>0.130952</td>\n",
       "      <td>0.446737</td>\n",
       "      <td>0.305704</td>\n",
       "      <td>0.584068</td>\n",
       "      <td>0.445503</td>\n",
       "      <td>0.697510</td>\n",
       "      <td>0.756316</td>\n",
       "      <td>0.678144</td>\n",
       "      <td>0.710657</td>\n",
       "    </tr>\n",
       "    <tr>\n",
       "      <td>100</td>\n",
       "      <td>0.119100</td>\n",
       "      <td>0.131866</td>\n",
       "      <td>0.460687</td>\n",
       "      <td>0.313712</td>\n",
       "      <td>0.564338</td>\n",
       "      <td>0.446246</td>\n",
       "      <td>0.687158</td>\n",
       "      <td>0.729496</td>\n",
       "      <td>0.659917</td>\n",
       "      <td>0.692190</td>\n",
       "    </tr>\n",
       "    <tr>\n",
       "      <td>150</td>\n",
       "      <td>0.119400</td>\n",
       "      <td>0.125990</td>\n",
       "      <td>0.449500</td>\n",
       "      <td>0.313295</td>\n",
       "      <td>0.547388</td>\n",
       "      <td>0.436728</td>\n",
       "      <td>0.722405</td>\n",
       "      <td>0.766644</td>\n",
       "      <td>0.679131</td>\n",
       "      <td>0.722727</td>\n",
       "    </tr>\n",
       "    <tr>\n",
       "      <td>200</td>\n",
       "      <td>0.113900</td>\n",
       "      <td>0.127055</td>\n",
       "      <td>0.454108</td>\n",
       "      <td>0.329310</td>\n",
       "      <td>0.542889</td>\n",
       "      <td>0.442102</td>\n",
       "      <td>0.714365</td>\n",
       "      <td>0.742187</td>\n",
       "      <td>0.680958</td>\n",
       "      <td>0.712503</td>\n",
       "    </tr>\n",
       "    <tr>\n",
       "      <td>250</td>\n",
       "      <td>0.105300</td>\n",
       "      <td>0.121077</td>\n",
       "      <td>0.432326</td>\n",
       "      <td>0.301575</td>\n",
       "      <td>0.544799</td>\n",
       "      <td>0.426233</td>\n",
       "      <td>0.718325</td>\n",
       "      <td>0.751504</td>\n",
       "      <td>0.684909</td>\n",
       "      <td>0.718246</td>\n",
       "    </tr>\n",
       "    <tr>\n",
       "      <td>300</td>\n",
       "      <td>0.107700</td>\n",
       "      <td>0.124394</td>\n",
       "      <td>0.441535</td>\n",
       "      <td>0.305618</td>\n",
       "      <td>0.541951</td>\n",
       "      <td>0.429701</td>\n",
       "      <td>0.716897</td>\n",
       "      <td>0.745263</td>\n",
       "      <td>0.685737</td>\n",
       "      <td>0.715966</td>\n",
       "    </tr>\n",
       "    <tr>\n",
       "      <td>350</td>\n",
       "      <td>0.106000</td>\n",
       "      <td>0.129134</td>\n",
       "      <td>0.454278</td>\n",
       "      <td>0.299997</td>\n",
       "      <td>0.570227</td>\n",
       "      <td>0.441501</td>\n",
       "      <td>0.713434</td>\n",
       "      <td>0.750878</td>\n",
       "      <td>0.661997</td>\n",
       "      <td>0.708770</td>\n",
       "    </tr>\n",
       "    <tr>\n",
       "      <td>400</td>\n",
       "      <td>0.100900</td>\n",
       "      <td>0.123702</td>\n",
       "      <td>0.440216</td>\n",
       "      <td>0.300427</td>\n",
       "      <td>0.545155</td>\n",
       "      <td>0.428599</td>\n",
       "      <td>0.731211</td>\n",
       "      <td>0.757954</td>\n",
       "      <td>0.677641</td>\n",
       "      <td>0.722269</td>\n",
       "    </tr>\n",
       "    <tr>\n",
       "      <td>450</td>\n",
       "      <td>0.101400</td>\n",
       "      <td>0.123280</td>\n",
       "      <td>0.438300</td>\n",
       "      <td>0.287502</td>\n",
       "      <td>0.561724</td>\n",
       "      <td>0.429175</td>\n",
       "      <td>0.725158</td>\n",
       "      <td>0.768594</td>\n",
       "      <td>0.676266</td>\n",
       "      <td>0.723339</td>\n",
       "    </tr>\n",
       "    <tr>\n",
       "      <td>500</td>\n",
       "      <td>0.102000</td>\n",
       "      <td>0.122866</td>\n",
       "      <td>0.443617</td>\n",
       "      <td>0.284270</td>\n",
       "      <td>0.550525</td>\n",
       "      <td>0.426137</td>\n",
       "      <td>0.724361</td>\n",
       "      <td>0.767473</td>\n",
       "      <td>0.675941</td>\n",
       "      <td>0.722592</td>\n",
       "    </tr>\n",
       "    <tr>\n",
       "      <td>550</td>\n",
       "      <td>0.091800</td>\n",
       "      <td>0.119791</td>\n",
       "      <td>0.431433</td>\n",
       "      <td>0.296928</td>\n",
       "      <td>0.542421</td>\n",
       "      <td>0.423594</td>\n",
       "      <td>0.728318</td>\n",
       "      <td>0.765898</td>\n",
       "      <td>0.680533</td>\n",
       "      <td>0.724916</td>\n",
       "    </tr>\n",
       "    <tr>\n",
       "      <td>600</td>\n",
       "      <td>0.089900</td>\n",
       "      <td>0.123528</td>\n",
       "      <td>0.436984</td>\n",
       "      <td>0.287326</td>\n",
       "      <td>0.559406</td>\n",
       "      <td>0.427905</td>\n",
       "      <td>0.721922</td>\n",
       "      <td>0.766889</td>\n",
       "      <td>0.672099</td>\n",
       "      <td>0.720303</td>\n",
       "    </tr>\n",
       "    <tr>\n",
       "      <td>650</td>\n",
       "      <td>0.089500</td>\n",
       "      <td>0.121444</td>\n",
       "      <td>0.428484</td>\n",
       "      <td>0.289918</td>\n",
       "      <td>0.558051</td>\n",
       "      <td>0.425484</td>\n",
       "      <td>0.724663</td>\n",
       "      <td>0.763745</td>\n",
       "      <td>0.673913</td>\n",
       "      <td>0.720774</td>\n",
       "    </tr>\n",
       "    <tr>\n",
       "      <td>700</td>\n",
       "      <td>0.087800</td>\n",
       "      <td>0.122670</td>\n",
       "      <td>0.435401</td>\n",
       "      <td>0.285138</td>\n",
       "      <td>0.557713</td>\n",
       "      <td>0.426084</td>\n",
       "      <td>0.725447</td>\n",
       "      <td>0.764953</td>\n",
       "      <td>0.678719</td>\n",
       "      <td>0.723040</td>\n",
       "    </tr>\n",
       "    <tr>\n",
       "      <td>750</td>\n",
       "      <td>0.080500</td>\n",
       "      <td>0.124128</td>\n",
       "      <td>0.445595</td>\n",
       "      <td>0.287757</td>\n",
       "      <td>0.555225</td>\n",
       "      <td>0.429525</td>\n",
       "      <td>0.721841</td>\n",
       "      <td>0.765118</td>\n",
       "      <td>0.674875</td>\n",
       "      <td>0.720611</td>\n",
       "    </tr>\n",
       "    <tr>\n",
       "      <td>800</td>\n",
       "      <td>0.079300</td>\n",
       "      <td>0.124380</td>\n",
       "      <td>0.440112</td>\n",
       "      <td>0.290094</td>\n",
       "      <td>0.559387</td>\n",
       "      <td>0.429864</td>\n",
       "      <td>0.724406</td>\n",
       "      <td>0.759641</td>\n",
       "      <td>0.675197</td>\n",
       "      <td>0.719748</td>\n",
       "    </tr>\n",
       "    <tr>\n",
       "      <td>850</td>\n",
       "      <td>0.079800</td>\n",
       "      <td>0.123429</td>\n",
       "      <td>0.435216</td>\n",
       "      <td>0.286595</td>\n",
       "      <td>0.558863</td>\n",
       "      <td>0.426891</td>\n",
       "      <td>0.726026</td>\n",
       "      <td>0.762221</td>\n",
       "      <td>0.675979</td>\n",
       "      <td>0.721409</td>\n",
       "    </tr>\n",
       "  </tbody>\n",
       "</table><p>"
      ],
      "text/plain": [
       "<IPython.core.display.HTML object>"
      ]
     },
     "metadata": {},
     "output_type": "display_data"
    },
    {
     "name": "stdout",
     "output_type": "stream",
     "text": [
      "[plateau] eval_r_mean=0.710657 -> lr=9.415e-04\n",
      "[plateau] eval_r_mean=0.692190 -> lr=8.842e-04\n",
      "[plateau] eval_r_mean=0.722727 -> lr=8.257e-04\n",
      "[plateau] eval_r_mean=0.712503 -> lr=7.673e-04\n",
      "[plateau] eval_r_mean=0.718246 -> lr=7.088e-04\n",
      "[plateau] eval_r_mean=0.715966 -> lr=3.251e-04\n",
      "[plateau] eval_r_mean=0.708770 -> lr=5.918e-04\n",
      "[plateau] eval_r_mean=0.722269 -> lr=5.333e-04\n",
      "[plateau] eval_r_mean=0.723339 -> lr=4.749e-04\n",
      "[plateau] eval_r_mean=0.722592 -> lr=4.164e-04\n",
      "[plateau] eval_r_mean=0.724916 -> lr=3.579e-04\n",
      "[plateau] eval_r_mean=0.720303 -> lr=2.994e-04\n",
      "[plateau] eval_r_mean=0.720774 -> lr=2.409e-04\n",
      "[plateau] eval_r_mean=0.723040 -> lr=9.123e-05\n",
      "[plateau] eval_r_mean=0.720611 -> lr=1.240e-04\n",
      "[plateau] eval_r_mean=0.719748 -> lr=6.550e-05\n",
      "[plateau] eval_r_mean=0.721409 -> lr=3.509e-06\n"
     ]
    },
    {
     "data": {
      "text/plain": [
       "TrainOutput(global_step=855, training_loss=0.1000782457011485, metrics={'train_runtime': 1414.3946, 'train_samples_per_second': 38.674, 'train_steps_per_second': 0.604, 'total_flos': 7691975740108800.0, 'train_loss': 0.1000782457011485, 'epoch': 5.0})"
      ]
     },
     "execution_count": 22,
     "metadata": {},
     "output_type": "execute_result"
    }
   ],
   "source": [
    "def _pearson(x: np.ndarray, y: np.ndarray) -> float:\n",
    "    x = x.astype(np.float64)\n",
    "    y = y.astype(np.float64)\n",
    "    x_c = x - x.mean()\n",
    "    y_c = y - y.mean()\n",
    "    denom = np.sqrt((x_c**2).sum()) * np.sqrt((y_c**2).sum())\n",
    "    return 0.0 if denom == 0.0 else float((x_c * y_c).sum() / denom)\n",
    "\n",
    "\n",
    "class HuberTrainer(Trainer):\n",
    "    def compute_loss(self, model, inputs, return_outputs=False):\n",
    "        labels = inputs.pop(\"labels\")\n",
    "        outputs = model(**inputs)\n",
    "        preds = outputs.logits\n",
    "        # ensure same dtype/device\n",
    "        labels = labels.to(preds.dtype)\n",
    "        loss = F.huber_loss(preds, labels, delta=0.5, reduction=\"mean\")\n",
    "        return (loss, outputs) if return_outputs else loss\n",
    "\n",
    "\n",
    "def compute_metrics(eval_pred):\n",
    "    preds, labels = eval_pred\n",
    "    if isinstance(preds, (tuple, list)):\n",
    "        preds = preds[0]\n",
    "    preds = preds.astype(\"float32\")\n",
    "    labels = labels.astype(\"float32\")\n",
    "    mae = np.mean(np.abs(preds - labels), axis=0)\n",
    "    r = [_pearson(preds[:, i], labels[:, i]) for i in range(labels.shape[1])]\n",
    "    return {\n",
    "        \"mae_emotion\": float(mae[0]),\n",
    "        \"mae_polarity\": float(mae[1]),\n",
    "        \"mae_empathy\": float(mae[2]),\n",
    "        \"mae_mean\": float(np.mean(mae)),\n",
    "        \"r_emotion\": r[0],\n",
    "        \"r_polarity\": r[1],\n",
    "        \"r_empathy\": r[2],\n",
    "        \"r_mean\": float(np.mean(r)),\n",
    "    }\n",
    "\n",
    "\n",
    "class PlateauLRSchedulerCallback(TrainerCallback):\n",
    "    def __init__(self, scheduler, monitor=\"eval_r_mean\"):\n",
    "        self.scheduler = scheduler\n",
    "        self.monitor = monitor\n",
    "\n",
    "    def on_evaluate(self, args, state, control, metrics, **kwargs):\n",
    "        metric = metrics.get(self.monitor)\n",
    "        if metric is not None:\n",
    "            self.scheduler.step(metric)\n",
    "            lr = self.scheduler.optimizer.param_groups[0][\"lr\"]\n",
    "            print(f\"[plateau] {self.monitor}={metric:.6f} -> lr={lr:.3e}\")\n",
    "\n",
    "\n",
    "plateau_sched = ReduceLROnPlateau(\n",
    "    AdamW(model.parameters(), lr=1e-2, weight_decay=0.05),\n",
    "    mode=\"max\",\n",
    "    factor=0.5,\n",
    "    patience=20,\n",
    "    threshold=1e-4,\n",
    "    threshold_mode=\"abs\",\n",
    "    cooldown=0,\n",
    "    min_lr=1e-6,\n",
    "    verbose=True,\n",
    ")\n",
    "optimizer = plateau_sched.optimizer\n",
    "\n",
    "args = TrainingArguments(\n",
    "    output_dir=\"out_roberta_lora_wassa\",\n",
    "    learning_rate=1e-3,\n",
    "    per_device_train_batch_size=16,\n",
    "    per_device_eval_batch_size=8,\n",
    "    gradient_accumulation_steps=4,  # effective batch = 64\n",
    "    num_train_epochs=5,\n",
    "    weight_decay=0.01,\n",
    "    logging_strategy=\"steps\",\n",
    "    evaluation_strategy=\"steps\",\n",
    "    eval_steps=50,\n",
    "    save_strategy=\"steps\",\n",
    "    save_steps=500,\n",
    "    load_best_model_at_end=True,\n",
    "    metric_for_best_model=\"r_mean\",\n",
    "    greater_is_better=True,\n",
    "    save_total_limit=2,\n",
    "    fp16=torch.cuda.is_available(),\n",
    "    logging_steps=50,\n",
    "    report_to=\"tensorboard\",\n",
    "    logging_dir=\"tb_logs\",\n",
    "    seed=42,\n",
    ")\n",
    "\n",
    "trainer = HuberTrainer(\n",
    "    model=model,\n",
    "    args=args,\n",
    "    train_dataset=ds_tok[\"train\"],\n",
    "    eval_dataset=ds_tok[\"validation\"],\n",
    "    tokenizer=tok,\n",
    "    data_collator=DataCollatorWithPadding(tokenizer=tok, padding=True),\n",
    "    compute_metrics=compute_metrics,\n",
    "    optimizers=(optimizer, None),\n",
    "    callbacks=[PlateauLRSchedulerCallback(plateau_sched, monitor=\"eval_r_mean\")],\n",
    ")\n",
    "\n",
    "trainer.train()\n"
   ]
  },
  {
   "cell_type": "code",
   "execution_count": 24,
   "metadata": {
    "execution": {
     "iopub.execute_input": "2025-08-27T18:15:20.841277Z",
     "iopub.status.busy": "2025-08-27T18:15:20.841007Z",
     "iopub.status.idle": "2025-08-27T18:15:21.554380Z",
     "shell.execute_reply": "2025-08-27T18:15:21.553706Z",
     "shell.execute_reply.started": "2025-08-27T18:15:20.841255Z"
    },
    "trusted": true
   },
   "outputs": [
    {
     "data": {
      "image/png": "[encoded data removed]",
      "text/plain": [
       "<Figure size 1000x400 with 1 Axes>"
      ]
     },
     "metadata": {},
     "output_type": "display_data"
    },
    {
     "data": {
      "image/png": "[encoded data removed]",
      "text/plain": [
       "<Figure size 640x480 with 1 Axes>"
      ]
     },
     "metadata": {},
     "output_type": "display_data"
    },
    {
     "data": {
      "image/png": "[encoded data removed]",
      "text/plain": [
       "<Figure size 640x480 with 1 Axes>"
      ]
     },
     "metadata": {},
     "output_type": "display_data"
    },
    {
     "data": {
      "image/png": "[encoded data removed]",
      "text/plain": [
       "<Figure size 1000x400 with 1 Axes>"
      ]
     },
     "metadata": {},
     "output_type": "display_data"
    }
   ],
   "source": [
    "import matplotlib.pyplot as plt\n",
    "from tensorboard.backend.event_processing.event_accumulator import EventAccumulator\n",
    "\n",
    "log_path = \"/kaggle/working/tb_logs/events.out.tfevents.1756316303.5a98bc578558.36.0\"\n",
    "ea = EventAccumulator(log_path)\n",
    "ea.Reload()\n",
    "\n",
    "def get_scalars(tag):\n",
    "    events = ea.Scalars(tag)\n",
    "    steps = [e.step for e in events]\n",
    "    values = [e.value for e in events]\n",
    "    return steps, values\n",
    "\n",
    "# ---- 1. Training & Evaluation Loss ----\n",
    "train_steps, train_loss = get_scalars(\"train/loss\")\n",
    "eval_steps, eval_loss = get_scalars(\"eval/loss\")\n",
    "\n",
    "plt.figure(figsize=(10,4))\n",
    "plt.plot(train_steps, train_loss, label=\"Train Loss\")\n",
    "plt.plot(eval_steps, eval_loss, label=\"Eval Loss\", marker=\"o\")\n",
    "plt.xlabel(\"Step\"); plt.ylabel(\"Loss\")\n",
    "plt.title(\"Training vs Evaluation Loss\")\n",
    "plt.legend(); plt.show()\n",
    "\n",
    "# ---- 2. Pearson r (per label + mean) ----\n",
    "for tag, color in zip(\n",
    "    [\"eval/r_emotion\", \"eval/r_polarity\", \"eval/r_empathy\", \"eval/r_mean\"],\n",
    "    [\"blue\", \"orange\", \"green\", \"red\"]\n",
    "):\n",
    "    steps, vals = get_scalars(tag)\n",
    "    plt.plot(steps, vals, marker=\"o\", label=tag.split(\"/\")[-1], color=color)\n",
    "\n",
    "plt.xlabel(\"Step\"); plt.ylabel(\"Pearson r\")\n",
    "plt.title(\"Validation Pearson Correlation\")\n",
    "plt.legend(); plt.show()\n",
    "\n",
    "# ---- 3. MAE (per label + mean) ----\n",
    "for tag, color in zip(\n",
    "    [\"eval/mae_emotion\", \"eval/mae_polarity\", \"eval/mae_empathy\", \"eval/mae_mean\"],\n",
    "    [\"blue\", \"orange\", \"green\", \"red\"]\n",
    "):\n",
    "    steps, vals = get_scalars(tag)\n",
    "    plt.plot(steps, vals, marker=\"o\", label=tag.split(\"/\")[-1], color=color)\n",
    "\n",
    "plt.xlabel(\"Step\"); plt.ylabel(\"MAE\")\n",
    "plt.title(\"Validation MAE\")\n",
    "plt.legend(); plt.show()\n",
    "\n",
    "# ---- 4. Learning rate ----\n",
    "steps, vals = get_scalars(\"train/learning_rate\")\n",
    "plt.figure(figsize=(10,4))\n",
    "plt.plot(steps, vals, color=\"purple\")\n",
    "plt.xlabel(\"Step\"); plt.ylabel(\"Learning Rate\")\n",
    "plt.title(\"Learning Rate Schedule\")\n",
    "plt.show()\n"
   ]
  },
  {
   "cell_type": "code",
   "execution_count": 25,
   "metadata": {
    "execution": {
     "iopub.execute_input": "2025-08-27T18:20:35.950332Z",
     "iopub.status.busy": "2025-08-27T18:20:35.950051Z",
     "iopub.status.idle": "2025-08-27T18:20:49.702119Z",
     "shell.execute_reply": "2025-08-27T18:20:49.701315Z",
     "shell.execute_reply.started": "2025-08-27T18:20:35.950315Z"
    },
    "trusted": true
   },
   "outputs": [
    {
     "data": {
      "application/vnd.jupyter.widget-view+json": {
       "model_id": "c3e019083aac4138a88be5bd0973a229",
       "version_major": 2,
       "version_minor": 0
      },
      "text/plain": [
       "Processing Files (0 / 0)                : |          |  0.00B /  0.00B            "
      ]
     },
     "metadata": {},
     "output_type": "display_data"
    },
    {
     "data": {
      "application/vnd.jupyter.widget-view+json": {
       "model_id": "9692af2e93134c8fa7e21b064fdad629",
       "version_major": 2,
       "version_minor": 0
      },
      "text/plain": [
       "New Data Upload                         : |          |  0.00B /  0.00B            "
      ]
     },
     "metadata": {},
     "output_type": "display_data"
    },
    {
     "data": {
      "application/vnd.jupyter.widget-view+json": {
       "model_id": "d2a3558491ec4a0b920bca7f3f056617",
       "version_major": 2,
       "version_minor": 0
      },
      "text/plain": [
       "  /tmp/tmp5vqu3urh/model.safetensors    :   7%|6         | 33.5MB /  499MB            "
      ]
     },
     "metadata": {},
     "output_type": "display_data"
    },
    {
     "data": {
      "application/vnd.jupyter.widget-view+json": {
       "model_id": "38ced598a580477fafdbe02ca719e935",
       "version_major": 2,
       "version_minor": 0
      },
      "text/plain": [
       "README.md:   0%|          | 0.00/5.17k [00:00<?, ?B/s]"
      ]
     },
     "metadata": {},
     "output_type": "display_data"
    },
    {
     "name": "stdout",
     "output_type": "stream",
     "text": [
      "✅ Merged model pushed to https://huggingface.co/miladsolo/roberta-lora-wassa-empathy\n"
     ]
    }
   ],
   "source": [
    "from copy import deepcopy\n",
    "\n",
    "merged_repo = \"miladsolo/roberta-lora-wassa-empathy\"  \n",
    "merged = model.merge_and_unload()  \n",
    "\n",
    "merged.config.problem_type = \"regression\"\n",
    "merged.config.num_labels = 3\n",
    "merged.config.id2label = {0: \"Emotion\", 1: \"EmotionalPolarity\", 2: \"Empathy\"}\n",
    "merged.config.label2id = {\"Emotion\": 0, \"EmotionalPolarity\": 1, \"Empathy\": 2}\n",
    "merged.push_to_hub(merged_repo, private=True)\n",
    "tok.push_to_hub(merged_repo, private=True)\n",
    "print(f\"✅ Merged model pushed to https://huggingface.co/{merged_repo}\")\n"
   ]
  },
  {
   "cell_type": "code",
   "execution_count": 28,
   "metadata": {
    "execution": {
     "iopub.execute_input": "2025-08-27T18:21:51.296383Z",
     "iopub.status.busy": "2025-08-27T18:21:51.295795Z",
     "iopub.status.idle": "2025-08-27T18:21:51.814420Z",
     "shell.execute_reply": "2025-08-27T18:21:51.813838Z",
     "shell.execute_reply.started": "2025-08-27T18:21:51.296359Z"
    },
    "trusted": true
   },
   "outputs": [
    {
     "name": "stdout",
     "output_type": "stream",
     "text": [
      "{'input_ids': tensor([[   0,  100,   17,   27,  119,   98, 1372,   13,   47,  328,    2],\n",
      "        [   0,  713,   16,  269,  543,    7,  432,   19,    4,    2,    1]],\n",
      "       device='cuda:0'), 'attention_mask': tensor([[1, 1, 1, 1, 1, 1, 1, 1, 1, 1, 1],\n",
      "        [1, 1, 1, 1, 1, 1, 1, 1, 1, 1, 0]], device='cuda:0')}\n",
      "[{'Emotion': 3.261545181274414, 'EmotionalPolarity': 0.07658835500478745, 'Empathy': 0.9395153522491455}, {'Emotion': 2.8098268508911133, 'EmotionalPolarity': 1.9894963502883911, 'Empathy': 2.8703160285949707}]\n"
     ]
    }
   ],
   "source": [
    "import torch\n",
    "from transformers import AutoTokenizer, AutoModelForSequenceClassification\n",
    "\n",
    "merged_repo = \"miladsolo/roberta-lora-wassa-empathy\"  # your merged repo\n",
    "device = \"cuda\" if torch.cuda.is_available() else \"cpu\"\n",
    "\n",
    "tok = AutoTokenizer.from_pretrained(merged_repo)\n",
    "model = AutoModelForSequenceClassification.from_pretrained(merged_repo)\n",
    "model.eval().to(device)\n",
    "\n",
    "def predict(texts, max_len=256):\n",
    "    enc = tok(texts, padding=True, truncation=True, max_length=max_len, return_tensors=\"pt\")\n",
    "    enc = {k: v.to(device) for k, v in enc.items()}\n",
    "    print(enc)\n",
    "    with torch.no_grad():\n",
    "        logits = model(**enc).logits  # [B, 3]\n",
    "    arr = logits.detach().cpu().numpy()\n",
    "    return [\n",
    "        {\"Emotion\": float(a[0]), \"EmotionalPolarity\": float(a[1]), \"Empathy\": float(a[2])}\n",
    "        for a in arr\n",
    "    ]\n",
    "\n",
    "print(predict([\"I’m so happy for you!\", \"This is really hard to deal with.\"]))\n"
   ]
  },
  {
   "cell_type": "code",
   "execution_count": 29,
   "metadata": {
    "execution": {
     "iopub.execute_input": "2025-08-27T18:23:20.501492Z",
     "iopub.status.busy": "2025-08-27T18:23:20.500765Z",
     "iopub.status.idle": "2025-08-27T18:23:20.557714Z",
     "shell.execute_reply": "2025-08-27T18:23:20.556953Z",
     "shell.execute_reply.started": "2025-08-27T18:23:20.501463Z"
    },
    "trusted": true
   },
   "outputs": [
    {
     "name": "stdout",
     "output_type": "stream",
     "text": [
      "🔹 Example text: Actually, I'm just kidding.  I remember her for her actual job.  She was a very high profile Attorney General.  A lot of really big events took place in the 1990s with her involved.\n",
      "🔹 Gold labels: {'Emotion': 2.3333001136779785, 'EmotionalPolarity': 0.666700005531311, 'Empathy': 1.666700005531311}\n",
      "{'input_ids': tensor([[    0, 36900,     6,    38,   437,    95, 27537,     4,  1437,    38,\n",
      "          2145,    69,    13,    69,  3031,   633,     4,  1437,   264,    21,\n",
      "            10,   182,   239,  4392,  2745,  1292,     4,  1437,    83,   319,\n",
      "             9,   269,   380,  1061,   362,   317,    11,     5,  4525,    29,\n",
      "            19,    69,   963,     4,     2]], device='cuda:0'), 'attention_mask': tensor([[1, 1, 1, 1, 1, 1, 1, 1, 1, 1, 1, 1, 1, 1, 1, 1, 1, 1, 1, 1, 1, 1, 1, 1,\n",
      "         1, 1, 1, 1, 1, 1, 1, 1, 1, 1, 1, 1, 1, 1, 1, 1, 1, 1, 1, 1, 1]],\n",
      "       device='cuda:0')}\n",
      "🔹 Model prediction: {'Emotion': 2.169511318206787, 'EmotionalPolarity': 1.0847195386886597, 'Empathy': 1.3818981647491455}\n",
      "{'input_ids': tensor([[    0, 36900,     6,    38,   437,    95, 27537,     4,  1437,    38,\n",
      "          2145,    69,    13,    69,  3031,   633,     4,  1437,   264,    21,\n",
      "            10,   182,   239,  4392,  2745,  1292,     4,  1437,    83,   319,\n",
      "             9,   269,   380,  1061,   362,   317,    11,     5,  4525,    29,\n",
      "            19,    69,   963,     4,     2]], device='cuda:0'), 'attention_mask': tensor([[1, 1, 1, 1, 1, 1, 1, 1, 1, 1, 1, 1, 1, 1, 1, 1, 1, 1, 1, 1, 1, 1, 1, 1,\n",
      "         1, 1, 1, 1, 1, 1, 1, 1, 1, 1, 1, 1, 1, 1, 1, 1, 1, 1, 1, 1, 1]],\n",
      "       device='cuda:0')}\n",
      "\n",
      "Text: Actually, I'm just kidding.  I remember her for her actual job.  She was a very high profile Attorney General.  A lot of really big events took place in the 1990s with her involved.\n",
      "Labels: {'Emotion': 2.3333001136779785, 'EmotionalPolarity': 0.666700005531311, 'Empathy': 1.666700005531311}\n",
      "Preds : {'Emotion': 2.169511318206787, 'EmotionalPolarity': 1.0847195386886597, 'Empathy': 1.3818981647491455}\n",
      "{'input_ids': tensor([[    0,  9904,     6,    38,  3776,     5,  7359,     4,  1437,  3837,\n",
      "            47,     4,  1437, 15687,     2]], device='cuda:0'), 'attention_mask': tensor([[1, 1, 1, 1, 1, 1, 1, 1, 1, 1, 1, 1, 1, 1, 1]], device='cuda:0')}\n",
      "\n",
      "Text: Yes, I enjoyed the chat.  Thank you.  bye\n",
      "Labels: {'Emotion': 1.666700005531311, 'EmotionalPolarity': 0.33329999446868896, 'Empathy': 0.666700005531311}\n",
      "Preds : {'Emotion': 1.6140530109405518, 'EmotionalPolarity': 0.3842085301876068, 'Empathy': 0.9845343828201294}\n",
      "{'input_ids': tensor([[    0,   100,    56,    10,   372,  7359,    19,    47,    25,   157,\n",
      "           328, 40142,     2]], device='cuda:0'), 'attention_mask': tensor([[1, 1, 1, 1, 1, 1, 1, 1, 1, 1, 1, 1, 1]], device='cuda:0')}\n",
      "\n",
      "Text: I had a great chat with you as well! Goodbye\n",
      "Labels: {'Emotion': 2.0, 'EmotionalPolarity': 0.33329999446868896, 'Empathy': 1.333299994468689}\n",
      "Preds : {'Emotion': 1.8274866342544556, 'EmotionalPolarity': 0.19669851660728455, 'Empathy': 0.8654824495315552}\n"
     ]
    }
   ],
   "source": [
    "# Pick an example from validation\n",
    "ex = ds[\"validation\"][0]   # you can change index to try different examples\n",
    "print(\"🔹 Example text:\", ex[\"text\"])\n",
    "print(\"🔹 Gold labels:\", {\n",
    "    \"Emotion\": ex[\"Emotion\"],\n",
    "    \"EmotionalPolarity\": ex[\"EmotionalPolarity\"],\n",
    "    \"Empathy\": ex[\"Empathy\"],\n",
    "})\n",
    "\n",
    "# Run prediction\n",
    "pred = predict([ex[\"text\"]])[0]\n",
    "print(\"🔹 Model prediction:\", pred)\n",
    "\n",
    "# Try a few examples in batch\n",
    "for i in range(3):\n",
    "    ex = ds[\"validation\"][i]\n",
    "    pred = predict([ex[\"text\"]])[0]\n",
    "    print(f\"\\nText: {ex['text']}\")\n",
    "    print(\"Labels:\", {\n",
    "        \"Emotion\": ex[\"Emotion\"],\n",
    "        \"EmotionalPolarity\": ex[\"EmotionalPolarity\"],\n",
    "        \"Empathy\": ex[\"Empathy\"],\n",
    "    })\n",
    "    print(\"Preds :\", pred)\n"
   ]
  },
  {
   "cell_type": "code",
   "execution_count": null,
   "metadata": {
    "trusted": true
   },
   "outputs": [],
   "source": []
  }
 ],
 "metadata": {
  "kaggle": {
   "accelerator": "gpu",
   "dataSources": [
    {
     "databundleVersionId": 13530865,
     "datasetId": 3516822,
     "sourceId": 12883047,
     "sourceType": "datasetVersion"
    }
   ],
   "dockerImageVersionId": 31089,
   "isGpuEnabled": true,
   "isInternetEnabled": true,
   "language": "python",
   "sourceType": "notebook"
  },
  "kernelspec": {
   "display_name": "Python 3",
   "language": "python",
   "name": "python3"
  },
  "language_info": {
   "codemirror_mode": {
    "name": "ipython",
    "version": 3
   },
   "file_extension": ".py",
   "mimetype": "text/x-python",
   "name": "python",
   "nbconvert_exporter": "python",
   "pygments_lexer": "ipython3",
   "version": "3.11.13"
  }
 },
 "nbformat": 4,
 "nbformat_minor": 4
}
